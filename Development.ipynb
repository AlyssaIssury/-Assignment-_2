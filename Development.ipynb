{
  "nbformat": 4,
  "nbformat_minor": 0,
  "metadata": {
    "colab": {
      "provenance": [],
      "authorship_tag": "ABX9TyOE//EwNPJeMkHUdEYjrbI9",
      "include_colab_link": true
    },
    "kernelspec": {
      "name": "python3",
      "display_name": "Python 3"
    },
    "language_info": {
      "name": "python"
    }
  },
  "cells": [
    {
      "cell_type": "markdown",
      "metadata": {
        "id": "view-in-github",
        "colab_type": "text"
      },
      "source": [
        "<a href=\"https://colab.research.google.com/github/AlyssaIssury/-Assignment-_2/blob/main/Development.ipynb\" target=\"_parent\"><img src=\"https://colab.research.google.com/assets/colab-badge.svg\" alt=\"Open In Colab\"/></a>"
      ]
    },
    {
      "cell_type": "code",
      "execution_count": null,
      "metadata": {
        "id": "q6PHIMqv6w-P"
      },
      "outputs": [],
      "source": [
        "# download enron email databases\n",
        "\n",
        "\n",
        "!wget -O enron.db https://curtin-my.sharepoint.com/:u:/g/personal/211934g_curtin_edu_au/EaYagsqa2r1Bi5wtHbswGFwBH2kd2uTnz6rlka7GI36GUQ?download=1\n",
        "import sqlite3\n",
        "Import the sqlite3 library\n",
        "Establish a connection to the\n",
        "\"enron.db\" database using sqlite3\n",
        "\n",
        "Define a SQL query to retrieve the table names from the database\n",
        "Execute the query and fetch all the results\n",
        "\n",
        "Define a SQL query to retrieve the table schema for the \"emploveelist\" table\n",
        "\n",
        "Execute the query and fetch all the results\n",
        "\n",
        "Define a SQL query to retrieve the table schema for the \"message\" table\n",
        "\n",
        "Execute the query and fetch all the results\n",
        "\n",
        "Define a SQL query to retrieve the table schema for the \"recipientinfo\" table\n",
        "\n",
        "Execute the query and fetch all the results\n",
        "Define a SQL query to retrieve the table schema for the \"referenceinfo\" table\n",
        "conn = sqlite3.connect(\"enron.db\")\n",
        "cur = conn.cursor()\n",
        "# Retrieving table names\n",
        "sql = \"\"\"\n",
        "SELECT name\n",
        "FROM sqlite_master\n",
        "WHERE type = \"table\";\n",
        "\"\"\"\n",
        "cur.execute(sql)\n",
        "tables = cur.fetchall()\n",
        "\n",
        "# Retrieving table information\n",
        "for table in tables:\n",
        "    table_name = table[0]\n",
        "    sql = f\"PRAGMA table_info('{table_name}');\"\n",
        "    cur.execute(sql)\n",
        "    table_info = cur.fetchall()\n",
        "    print(f\"Table: {table_name}\")\n",
        "    for column in table_info:\n",
        "        print(column)\n",
        "    print(\"\\n\")\n",
        "\n",
        "import pandas as pd\n",
        "\n",
        "# Creating employeelist dataframe\n",
        "sql = \"SELECT * FROM employeelist;\"\n",
        "employeelist_df = pd.read_sql_query(sql, conn)\n",
        "\n",
        "# Creating message dataframe\n",
        "sql = \"SELECT * FROM message;\"\n",
        "message_df = pd.read_sql_query(sql, conn)\n",
        "\n",
        "# Creating recipientinfo dataframe\n",
        "sql = \"SELECT * FROM recipientinfo;\"\n",
        "recipientinfo_df = pd.read_sql_query(sql, conn\n"
      ]
    }
  ]
}